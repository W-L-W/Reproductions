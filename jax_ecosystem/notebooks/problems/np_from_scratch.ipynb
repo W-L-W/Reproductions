{
 "cells": [
  {
   "cell_type": "code",
   "execution_count": 1,
   "metadata": {},
   "outputs": [],
   "source": [
    "%load_ext autoreload\n",
    "%autoreload 2"
   ]
  },
  {
   "cell_type": "code",
   "execution_count": 2,
   "metadata": {},
   "outputs": [
    {
     "name": "stderr",
     "output_type": "stream",
     "text": [
      "2024-10-31 17:01:43.551361: E external/local_xla/xla/stream_executor/cuda/cuda_fft.cc:477] Unable to register cuFFT factory: Attempting to register factory for plugin cuFFT when one has already been registered\n",
      "WARNING: All log messages before absl::InitializeLog() is called are written to STDERR\n",
      "E0000 00:00:1730394103.565984 2925336 cuda_dnn.cc:8310] Unable to register cuDNN factory: Attempting to register factory for plugin cuDNN when one has already been registered\n",
      "E0000 00:00:1730394103.570285 2925336 cuda_blas.cc:1418] Unable to register cuBLAS factory: Attempting to register factory for plugin cuBLAS when one has already been registered\n"
     ]
    }
   ],
   "source": [
    "import jax\n",
    "import jax.numpy as jnp\n",
    "import jax.random as r\n",
    "import distrax as dx\n",
    "import matplotlib.pyplot as plt"
   ]
  },
  {
   "cell_type": "code",
   "execution_count": 7,
   "metadata": {},
   "outputs": [],
   "source": [
    "import flax.nnx as nnx"
   ]
  },
  {
   "cell_type": "code",
   "execution_count": 3,
   "metadata": {},
   "outputs": [],
   "source": [
    "from typing import TypeVar"
   ]
  },
  {
   "cell_type": "code",
   "execution_count": 6,
   "metadata": {},
   "outputs": [],
   "source": [
    "import sys\n",
    "import os\n",
    "\n",
    "# Navigate the current notebook directory to src directory\n",
    "current_dir = os.getcwd()\n",
    "jax_eco_dir = os.path.dirname(os.path.dirname(current_dir))\n",
    "src_dir = os.path.join(jax_eco_dir, 'src')\n",
    "sys.path.append(jax_eco_dir)\n",
    "\n",
    "# Now you can import the module\n",
    "import src.np_from_scratch as npfs"
   ]
  },
  {
   "cell_type": "code",
   "execution_count": 31,
   "metadata": {},
   "outputs": [],
   "source": [
    "key0 = r.PRNGKey(0)"
   ]
  },
  {
   "cell_type": "code",
   "execution_count": 8,
   "metadata": {},
   "outputs": [
    {
     "name": "stdout",
     "output_type": "stream",
     "text": [
      "\u001b[0;31mInit signature:\u001b[0m \u001b[0mnnx\u001b[0m\u001b[0;34m.\u001b[0m\u001b[0mLinear\u001b[0m\u001b[0;34m(\u001b[0m\u001b[0;34m*\u001b[0m\u001b[0margs\u001b[0m\u001b[0;34m:\u001b[0m \u001b[0;34m'Any'\u001b[0m\u001b[0;34m,\u001b[0m \u001b[0;34m**\u001b[0m\u001b[0mkwargs\u001b[0m\u001b[0;34m:\u001b[0m \u001b[0;34m'Any'\u001b[0m\u001b[0;34m)\u001b[0m \u001b[0;34m->\u001b[0m \u001b[0;34m'Any'\u001b[0m\u001b[0;34m\u001b[0m\u001b[0;34m\u001b[0m\u001b[0m\n",
      "\u001b[0;31mDocstring:\u001b[0m     \n",
      "A linear transformation applied over the last dimension of the input.\n",
      "\n",
      "Example usage::\n",
      "\n",
      "  >>> from flax import nnx\n",
      "  >>> import jax, jax.numpy as jnp\n",
      "\n",
      "  >>> layer = nnx.Linear(in_features=3, out_features=4, rngs=nnx.Rngs(0))\n",
      "  >>> jax.tree.map(jnp.shape, nnx.state(layer))\n",
      "  State({\n",
      "    'bias': VariableState(\n",
      "      type=Param,\n",
      "      value=(4,)\n",
      "    ),\n",
      "    'kernel': VariableState(\n",
      "      type=Param,\n",
      "      value=(3, 4)\n",
      "    )\n",
      "  })\n",
      "\n",
      "Attributes:\n",
      "  in_features: the number of input features.\n",
      "  out_features: the number of output features.\n",
      "  use_bias: whether to add a bias to the output (default: True).\n",
      "  dtype: the dtype of the computation (default: infer from input and params).\n",
      "  param_dtype: the dtype passed to parameter initializers (default: float32).\n",
      "  precision: numerical precision of the computation see ``jax.lax.Precision``\n",
      "    for details.\n",
      "  kernel_init: initializer function for the weight matrix.\n",
      "  bias_init: initializer function for the bias.\n",
      "  dot_general: dot product function.\n",
      "  rngs: rng key.\n",
      "\u001b[0;31mFile:\u001b[0m           /scratch/ww347/projects/Reproductions/.venv/lib/python3.11/site-packages/flax/nnx/nn/linear.py\n",
      "\u001b[0;31mType:\u001b[0m           ModuleMeta\n",
      "\u001b[0;31mSubclasses:\u001b[0m     LoRALinear"
     ]
    }
   ],
   "source": [
    "nnx.Linear?"
   ]
  },
  {
   "cell_type": "code",
   "execution_count": null,
   "metadata": {},
   "outputs": [],
   "source": []
  },
  {
   "cell_type": "code",
   "execution_count": 11,
   "metadata": {},
   "outputs": [],
   "source": [
    "arr = jnp.arange(3).reshape(1, 3)\n",
    "new = jnp.arange(2).reshape(2, 1)\n",
    "# concatenate and broadcast new below arr to get array of dim 3 x 3\n",
    "# first tile\n",
    "new = jnp.tile(new, (1, 3))\n",
    "# concatenate\n",
    "new = jnp.concatenate([arr, new], axis=0)"
   ]
  },
  {
   "cell_type": "code",
   "execution_count": 12,
   "metadata": {},
   "outputs": [
    {
     "data": {
      "text/plain": [
       "Array([[0, 1, 2],\n",
       "       [0, 0, 0],\n",
       "       [1, 1, 1]], dtype=int32)"
      ]
     },
     "execution_count": 12,
     "metadata": {},
     "output_type": "execute_result"
    }
   ],
   "source": [
    "new"
   ]
  },
  {
   "cell_type": "code",
   "execution_count": 14,
   "metadata": {},
   "outputs": [
    {
     "data": {
      "text/plain": [
       "(1, 1, 1, 2)"
      ]
     },
     "execution_count": 14,
     "metadata": {},
     "output_type": "execute_result"
    }
   ],
   "source": [
    "(1,) * 3 + (2,)"
   ]
  },
  {
   "cell_type": "code",
   "execution_count": 16,
   "metadata": {},
   "outputs": [
    {
     "name": "stdout",
     "output_type": "stream",
     "text": [
      "\u001b[0;31mSignature:\u001b[0m\n",
      "\u001b[0mjnp\u001b[0m\u001b[0;34m.\u001b[0m\u001b[0msplit\u001b[0m\u001b[0;34m(\u001b[0m\u001b[0;34m\u001b[0m\n",
      "\u001b[0;34m\u001b[0m    \u001b[0mary\u001b[0m\u001b[0;34m:\u001b[0m \u001b[0;34m'ArrayLike'\u001b[0m\u001b[0;34m,\u001b[0m\u001b[0;34m\u001b[0m\n",
      "\u001b[0;34m\u001b[0m    \u001b[0mindices_or_sections\u001b[0m\u001b[0;34m:\u001b[0m \u001b[0;34m'int | Sequence[int] | ArrayLike'\u001b[0m\u001b[0;34m,\u001b[0m\u001b[0;34m\u001b[0m\n",
      "\u001b[0;34m\u001b[0m    \u001b[0maxis\u001b[0m\u001b[0;34m:\u001b[0m \u001b[0;34m'int'\u001b[0m \u001b[0;34m=\u001b[0m \u001b[0;36m0\u001b[0m\u001b[0;34m,\u001b[0m\u001b[0;34m\u001b[0m\n",
      "\u001b[0;34m\u001b[0m\u001b[0;34m)\u001b[0m \u001b[0;34m->\u001b[0m \u001b[0;34m'list[Array]'\u001b[0m\u001b[0;34m\u001b[0m\u001b[0;34m\u001b[0m\u001b[0m\n",
      "\u001b[0;31mDocstring:\u001b[0m\n",
      "Split an array into sub-arrays.\n",
      "\n",
      "JAX implementation of :func:`numpy.split`.\n",
      "\n",
      "Args:\n",
      "  ary: N-dimensional array-like object to split\n",
      "  indices_or_sections: either a single integer or a sequence of indices.\n",
      "\n",
      "    - if ``indices_or_sections`` is an integer *N*, then *N* must evenly divide\n",
      "      ``ary.shape[axis]`` and ``ary`` will be divided into *N* equally-sized\n",
      "      chunks along ``axis``.\n",
      "    - if ``indices_or_sections`` is a sequence of integers, then these integers\n",
      "      specify the boundary between unevenly-sized chunks along ``axis``; see\n",
      "      examples below.\n",
      "\n",
      "  axis: the axis along which to split; defaults to 0.\n",
      "\n",
      "Returns:\n",
      "  A list of arrays. If ``indices_or_sections`` is an integer *N*, then the list is\n",
      "  of length *N*. If ``indices_or_sections`` is a sequence *seq*, then the list is\n",
      "  is of length *len(seq) + 1*.\n",
      "\n",
      "Examples:\n",
      "  Splitting a 1-dimensional array:\n",
      "\n",
      "  >>> x = jnp.array([1, 2, 3, 4, 5, 6, 7, 8, 9])\n",
      "\n",
      "  Split into three equal sections:\n",
      "\n",
      "  >>> chunks = jnp.split(x, 3)\n",
      "  >>> print(*chunks)\n",
      "  [1 2 3] [4 5 6] [7 8 9]\n",
      "\n",
      "  Split into sections by index:\n",
      "\n",
      "  >>> chunks = jnp.split(x, [2, 7])  # [x[0:2], x[2:7], x[7:]]\n",
      "  >>> print(*chunks)\n",
      "  [1 2] [3 4 5 6 7] [8 9]\n",
      "\n",
      "  Splitting a two-dimensional array along axis 1:\n",
      "\n",
      "  >>> x = jnp.array([[1, 2, 3, 4],\n",
      "  ...                [5, 6, 7, 8]])\n",
      "  >>> x1, x2 = jnp.split(x, 2, axis=1)\n",
      "  >>> print(x1)\n",
      "  [[1 2]\n",
      "   [5 6]]\n",
      "  >>> print(x2)\n",
      "  [[3 4]\n",
      "   [7 8]]\n",
      "\n",
      "See also:\n",
      "  - :func:`jax.numpy.array_split`: like ``split``, but allows ``indices_or_sections``\n",
      "    to be an integer that does not evenly divide the size of the array.\n",
      "  - :func:`jax.numpy.vsplit`: split vertically, i.e. along axis=0\n",
      "  - :func:`jax.numpy.hsplit`: split horizontally, i.e. along axis=1\n",
      "  - :func:`jax.numpy.dsplit`: split depth-wise, i.e. along axis=2\n",
      "\u001b[0;31mFile:\u001b[0m      /scratch/ww347/projects/Reproductions/.venv/lib/python3.11/site-packages/jax/_src/numpy/lax_numpy.py\n",
      "\u001b[0;31mType:\u001b[0m      function"
     ]
    }
   ],
   "source": [
    "jnp.split?"
   ]
  },
  {
   "cell_type": "code",
   "execution_count": 20,
   "metadata": {},
   "outputs": [
    {
     "data": {
      "text/plain": [
       "[Array([[0],\n",
       "        [3]], dtype=int32),\n",
       " Array([[1],\n",
       "        [4]], dtype=int32),\n",
       " Array([[2],\n",
       "        [5]], dtype=int32)]"
      ]
     },
     "execution_count": 20,
     "metadata": {},
     "output_type": "execute_result"
    }
   ],
   "source": [
    "jnp.array_split(\n",
    "    jnp.arange(6).reshape(2, 3),\n",
    "    [1,2],\n",
    "    axis=1\n",
    ")"
   ]
  },
  {
   "cell_type": "code",
   "execution_count": 24,
   "metadata": {},
   "outputs": [],
   "source": [
    "# consider a collection of 2D normal\n",
    "locs = jnp.array([[0., 0.], [1., 1.], [2., 2.]])\n",
    "scales = jnp.array([[1., 1.,]] * 3)"
   ]
  },
  {
   "cell_type": "code",
   "execution_count": 25,
   "metadata": {},
   "outputs": [
    {
     "data": {
      "text/plain": [
       "(3, 2)"
      ]
     },
     "execution_count": 25,
     "metadata": {},
     "output_type": "execute_result"
    }
   ],
   "source": [
    "scales.shape"
   ]
  },
  {
   "cell_type": "code",
   "execution_count": 29,
   "metadata": {},
   "outputs": [],
   "source": [
    "mvns = dx.MultivariateNormalDiag(loc=locs, scale_diag=scales)"
   ]
  },
  {
   "cell_type": "code",
   "execution_count": 34,
   "metadata": {},
   "outputs": [
    {
     "data": {
      "text/plain": [
       "(5, 3, 2)"
      ]
     },
     "execution_count": 34,
     "metadata": {},
     "output_type": "execute_result"
    }
   ],
   "source": [
    "mvns.sample(sample_shape=5, seed=key0).shape"
   ]
  },
  {
   "cell_type": "markdown",
   "metadata": {},
   "source": [
    "Note that the sample shape goes onto the first dimension."
   ]
  },
  {
   "cell_type": "code",
   "execution_count": null,
   "metadata": {},
   "outputs": [],
   "source": []
  }
 ],
 "metadata": {
  "kernelspec": {
   "display_name": ".venv",
   "language": "python",
   "name": "python3"
  },
  "language_info": {
   "codemirror_mode": {
    "name": "ipython",
    "version": 3
   },
   "file_extension": ".py",
   "mimetype": "text/x-python",
   "name": "python",
   "nbconvert_exporter": "python",
   "pygments_lexer": "ipython3",
   "version": "3.11.10"
  }
 },
 "nbformat": 4,
 "nbformat_minor": 2
}
