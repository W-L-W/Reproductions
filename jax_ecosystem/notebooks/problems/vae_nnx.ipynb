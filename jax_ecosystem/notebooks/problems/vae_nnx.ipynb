{
 "cells": [
  {
   "cell_type": "markdown",
   "metadata": {},
   "source": [
    "# Motivation  \n",
    "This is to accompany VAE implementation with nnx in src/vae_nnx"
   ]
  },
  {
   "cell_type": "code",
   "execution_count": 1,
   "metadata": {},
   "outputs": [],
   "source": [
    "%load_ext autoreload"
   ]
  },
  {
   "cell_type": "code",
   "execution_count": 2,
   "metadata": {},
   "outputs": [
    {
     "name": "stderr",
     "output_type": "stream",
     "text": [
      "2024-10-26 17:47:23.713364: E external/local_xla/xla/stream_executor/cuda/cuda_fft.cc:477] Unable to register cuFFT factory: Attempting to register factory for plugin cuFFT when one has already been registered\n",
      "WARNING: All log messages before absl::InitializeLog() is called are written to STDERR\n",
      "E0000 00:00:1729961243.731214 1025389 cuda_dnn.cc:8310] Unable to register cuDNN factory: Attempting to register factory for plugin cuDNN when one has already been registered\n",
      "E0000 00:00:1729961243.737100 1025389 cuda_blas.cc:1418] Unable to register cuBLAS factory: Attempting to register factory for plugin cuBLAS when one has already been registered\n"
     ]
    }
   ],
   "source": [
    "import sys\n",
    "import os\n",
    "\n",
    "# Navigate the current notebook directory to src directory\n",
    "current_dir = os.getcwd()\n",
    "jax_eco_dir = os.path.dirname(os.path.dirname(current_dir))\n",
    "src_dir = os.path.join(jax_eco_dir, 'src')\n",
    "sys.path.append(jax_eco_dir)\n",
    "\n",
    "# Now you can import the module\n",
    "from src.vae_nnx import VAESpec"
   ]
  },
  {
   "cell_type": "code",
   "execution_count": 3,
   "metadata": {},
   "outputs": [],
   "source": [
    "from typing import Any, Dict\n",
    "\n",
    "import tensorflow_datasets as tfds\n",
    "from flax import nnx\n",
    "\n",
    "from functools import partial\n",
    "from dataclasses import dataclass\n",
    "\n",
    "from tensorflow_probability.substrates import jax as tfp\n",
    "tfd = tfp.distributions\n",
    "tfb = tfp.bijectors\n",
    "tfpk = tfp.math.psd_kernels\n",
    "\n",
    "import jax.numpy as jnp\n",
    "import jax.random as r\n",
    "import distrax as dx\n",
    "import tensorflow as tf"
   ]
  },
  {
   "cell_type": "code",
   "execution_count": 4,
   "metadata": {},
   "outputs": [],
   "source": [
    "import einops as eo"
   ]
  },
  {
   "cell_type": "markdown",
   "metadata": {},
   "source": [
    "# Development"
   ]
  },
  {
   "cell_type": "code",
   "execution_count": 5,
   "metadata": {},
   "outputs": [],
   "source": [
    "orig_seed = r.PRNGKey(0)"
   ]
  },
  {
   "cell_type": "code",
   "execution_count": 6,
   "metadata": {},
   "outputs": [],
   "source": [
    "d_latent = 10\n",
    "\n",
    "loc = jnp.zeros(d_latent)\n",
    "scale = jnp.eye(d_latent)\n",
    "\n",
    "mvn = dx.MultivariateNormalTri(loc=loc, scale_tri=scale)"
   ]
  },
  {
   "cell_type": "code",
   "execution_count": 7,
   "metadata": {},
   "outputs": [
    {
     "data": {
      "text/plain": [
       "Array([-0.3721109 ,  0.26423115, -0.18252768, -0.7368197 , -0.44030377,\n",
       "       -0.1521442 , -0.67135346, -0.5908641 ,  0.73168886,  0.5673026 ],      dtype=float32)"
      ]
     },
     "execution_count": 7,
     "metadata": {},
     "output_type": "execute_result"
    }
   ],
   "source": [
    "mvn.sample(seed=orig_seed)"
   ]
  },
  {
   "cell_type": "code",
   "execution_count": 8,
   "metadata": {},
   "outputs": [
    {
     "data": {
      "text/plain": [
       "Array([[[1., 1.],\n",
       "        [1., 1.],\n",
       "        [1., 1.]]], dtype=float32)"
      ]
     },
     "execution_count": 8,
     "metadata": {},
     "output_type": "execute_result"
    }
   ],
   "source": [
    "a = jnp.ones((3, 2))\n",
    "eo.rearrange(a, 'h w -> 1 h w')"
   ]
  },
  {
   "cell_type": "code",
   "execution_count": 9,
   "metadata": {},
   "outputs": [],
   "source": [
    "vs = VAESpec()"
   ]
  },
  {
   "cell_type": "code",
   "execution_count": 10,
   "metadata": {},
   "outputs": [
    {
     "data": {
      "text/plain": [
       "int"
      ]
     },
     "execution_count": 10,
     "metadata": {},
     "output_type": "execute_result"
    }
   ],
   "source": [
    "type(vs.d_big)"
   ]
  },
  {
   "cell_type": "code",
   "execution_count": 11,
   "metadata": {},
   "outputs": [
    {
     "data": {
      "text/html": [
       "<script> (()=>{ if (customElements.get('treescope-container') === undefined) { class TreescopeContainer extends HTMLElement { constructor() { super(); this.attachShadow({mode: \"open\"}); this.defns = {}; this.state = {}; } } customElements.define(\"treescope-container\", TreescopeContainer); } if (customElements.get('treescope-run-here') === undefined) { class RunHere extends HTMLElement { constructor() { super() } connectedCallback() { const run = child => { const fn = new Function(child.textContent); child.textContent = \"\"; fn.call(this); this.remove(); }; const child = this.querySelector(\"script\"); if (child) { run(child); } else { new MutationObserver(()=>{ run(this.querySelector(\"script\")); }).observe(this, {childList: true}); } } } customElements.define(\"treescope-run-here\", RunHere); } })(); </script> <treescope-container class=\"treescope_out_36a01b967da049f0ab0f078ab2cd2cee\" ></treescope-container> <treescope-run-here><script type=\"application/octet-stream\"> const root = ( Array.from(document.getElementsByClassName( \"treescope_out_36a01b967da049f0ab0f078ab2cd2cee\")) .filter((elt) => !elt.dataset.setup) )[0]; root.dataset.setup = 1; const msg = document.createElement(\"span\"); msg.style = \"color: #cccccc; font-family: monospace;\"; msg.textContent = \"(Loading...)\"; root.state.loadingMsg = msg; root.shadowRoot.appendChild(msg); root.state.chain = new Promise((resolve, reject) => { const observer = new IntersectionObserver((entries) => { for (const entry of entries) { if (entry.isIntersecting) { resolve(); observer.disconnect(); return; } } }, {rootMargin: \"1000px\"}); window.setTimeout(() => { observer.observe(root); }, 0); }); root.state.deferring = false; const _insertNode = (node) => { for (let oldScript of node.querySelectorAll(\"script\")) { let newScript = document.createElement(\"script\"); newScript.type = oldScript.type; newScript.textContent = oldScript.textContent; oldScript.parentNode.replaceChild(newScript, oldScript); } if (root.state.loadingMsg) { root.state.loadingMsg.remove(); root.state.loadingMsg = null; } root.shadowRoot.appendChild(node); }; root.defns.insertContent = ((contentNode, compressed) => { if (compressed) { root.state.deferring = true; } if (root.state.deferring) { root.state.chain = (async () => { await root.state.chain; if (compressed) { const encoded = contentNode.textContent; const blob = new Blob([ Uint8Array.from(atob(encoded), (m) => m.codePointAt(0)) ]); const reader = blob.stream().pipeThrough( new DecompressionStream(\"deflate\") ).pipeThrough( new TextDecoderStream(\"utf-8\") ).getReader(); const parts = []; while (true) { const step = await reader.read(); if (step.done) { break; } parts.push(step.value); } const tpl = document.createElement('template'); tpl.innerHTML = parts.join(\"\"); _insertNode(tpl.content); } else { _insertNode(contentNode.content); } })(); } else { _insertNode(contentNode.content); } }); </script></treescope-run-here><div style=\"display:none\"> <script type=\"application/octet-stream\" >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</script> <treescope-run-here><script type=\"application/octet-stream\"> const root = ( Array.from(document.getElementsByClassName( \"treescope_out_36a01b967da049f0ab0f078ab2cd2cee\")) .filter((elt) => !elt.dataset['step0']) )[0]; root.dataset['step0'] = 1; root.defns.insertContent( this.parentNode.querySelector('script[type=\"application/octet-stream\"]'), true ); this.parentNode.remove(); </script></treescope-run-here> </div>"
      ],
      "text/plain": [
       "<IPython.core.display.HTML object>"
      ]
     },
     "metadata": {},
     "output_type": "display_data"
    },
    {
     "data": {
      "text/html": [
       "<div style=\"display:none\"> <script type=\"application/octet-stream\" >eNqVVE1vnDAQvfdXWESKoEkI+/0ZpLZppVx6aA89RBHy2gO48drUeNOgKv+9Y2B3w3YTpXtYsOfNvJnnZ5ZcPJDSVhKuPC7KQtJqTpRW4BHBr7xUm4RDCsYAT6J0xsfQT1ejQW844TM6YStG+XQ8Ho17bMi9eFkWVOG/qxeHTEtMp6uVgQfyh9TLOTkZT/s0ihbkqQUwvV6DssnvHFQCj1iBA58rbf0w1ZLTlYREaQ7znJZ+LOkKZNyNJFZnmYQ6Z85yYPfAg4C8D56x0vqHrMvLpr26V8IkLUs357NyOEfDshSq2FhiqwLVqeuu9KN3NKdtAYMNfby8rJO7NM8V8Y6FjmpxgKxjCJe0KF3wVNoFDtUof4jb1zghLegnfQw/GEMrcg+VS05NdZrZhR+8TpPtaQ4erVqvkHdiAveURUOxXEhuQL0a9+K6Wd8Pzgmvj6LbdkD0Axj0rVDZ/N1tRKK7F9rsPtD48fI/3D9IJ/0ZTQdRxGbD4bA3m0wGbDpKe9F0RGeM7t3/4oG7rnfq+9F2no1QdtAPjglcN2kNQMl0ARdmoy5yMM68zIhia01aFFIwaoVWl5pZsBcl5tC1FzOtSkRRk4G94SW5Irfe2+/zOfHePv7doiHjmhmtLVLZXJQhEn/D5Ve8I36wIG1DOFELauHhrw2Y6jtIYFYb3wt3Qycu7P2T+kniMTmSdh0yt1HTWLMBxO8iBvBgGfwQNvc76buiqaGZu3dNPxv3GjJU0MJ1u/zSItwMW3SIuoPin5xLd4VdXBviS7BEYD380Amy3B9BKEFlNsfdszP3fXK4JojgXWVcfpbgXj9WN1h8m30r7pDA5ZR6Yxhco39f1PDE+dcjZ+QgvVl2ZNlVC1Nhyi13PRkm7KMG1njbnAhP3ZM4KnLg/FwbFa18xMV/AbVlR/4=</script> <treescope-run-here><script type=\"application/octet-stream\"> const root = ( Array.from(document.getElementsByClassName( \"treescope_out_36a01b967da049f0ab0f078ab2cd2cee\")) .filter((elt) => !elt.dataset['step1']) )[0]; root.dataset['step1'] = 1; root.defns.insertContent( this.parentNode.querySelector('script[type=\"application/octet-stream\"]'), true ); this.parentNode.remove(); </script></treescope-run-here> </div>"
      ],
      "text/plain": [
       "<IPython.core.display.HTML object>"
      ]
     },
     "metadata": {},
     "output_type": "display_data"
    }
   ],
   "source": [
    "nnx.display(nnx.Rngs(0))"
   ]
  },
  {
   "cell_type": "code",
   "execution_count": 12,
   "metadata": {},
   "outputs": [],
   "source": [
    "lin = nnx.Linear(in_features=vs.d_big, out_features=vs.d_pre, rngs=nnx.Rngs(0))"
   ]
  },
  {
   "cell_type": "markdown",
   "metadata": {},
   "source": [
    "Status:\n",
    "- have done some nice refactoring\n",
    "- still think a decent time investment\n",
    "\n",
    "Next up to implement:\n",
    "- debug encoder and data loading\n",
    "- implement decoder\n",
    "- debug decoder encoder combo\n",
    "- implement training loop\n",
    "- debug training\n",
    "- understand "
   ]
  },
  {
   "cell_type": "code",
   "execution_count": null,
   "metadata": {},
   "outputs": [],
   "source": []
  }
 ],
 "metadata": {
  "kernelspec": {
   "display_name": "local_conda_env_jax",
   "language": "python",
   "name": "python3"
  },
  "language_info": {
   "codemirror_mode": {
    "name": "ipython",
    "version": 3
   },
   "file_extension": ".py",
   "mimetype": "text/x-python",
   "name": "python",
   "nbconvert_exporter": "python",
   "pygments_lexer": "ipython3",
   "version": "3.10.13"
  }
 },
 "nbformat": 4,
 "nbformat_minor": 2
}
