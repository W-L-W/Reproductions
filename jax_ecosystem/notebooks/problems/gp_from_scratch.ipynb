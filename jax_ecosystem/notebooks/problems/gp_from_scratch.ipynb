{
 "cells": [
  {
   "cell_type": "code",
   "execution_count": 1,
   "metadata": {},
   "outputs": [],
   "source": [
    "%load_ext autoreload\n",
    "%autoreload 2"
   ]
  },
  {
   "cell_type": "code",
   "execution_count": 42,
   "metadata": {},
   "outputs": [],
   "source": [
    "import jax.numpy as jnp\n",
    "import jax.random as r\n",
    "\n",
    "import matplotlib.pyplot as plt"
   ]
  },
  {
   "cell_type": "code",
   "execution_count": 3,
   "metadata": {},
   "outputs": [],
   "source": [
    "import sys\n",
    "import os\n",
    "\n",
    "# Navigate the current notebook directory to src directory\n",
    "current_dir = os.getcwd()\n",
    "jax_eco_dir = os.path.dirname(os.path.dirname(current_dir))\n",
    "src_dir = os.path.join(jax_eco_dir, 'src')\n",
    "sys.path.append(jax_eco_dir)\n",
    "\n",
    "# Now you can import the module\n",
    "import src.gp_from_scratch as g"
   ]
  },
  {
   "cell_type": "code",
   "execution_count": 4,
   "metadata": {},
   "outputs": [
    {
     "name": "stderr",
     "output_type": "stream",
     "text": [
      "An NVIDIA GPU may be present on this machine, but a CUDA-enabled jaxlib is not installed. Falling back to cpu.\n"
     ]
    }
   ],
   "source": [
    "x = jnp.linspace(start=0, stop=1, num=100).reshape(-1, 1)"
   ]
  },
  {
   "cell_type": "code",
   "execution_count": 5,
   "metadata": {},
   "outputs": [],
   "source": [
    "zm = g.ZeroMean()"
   ]
  },
  {
   "cell_type": "code",
   "execution_count": 60,
   "metadata": {},
   "outputs": [],
   "source": [
    "# 1D test\n",
    "x = jnp.linspace(start=0, stop=1, num=30).reshape(-1, 1)\n",
    "\n",
    "GP0 = g.GP(mean=g.ZeroMean(), kernel=g.RBFKernel(lengthscale=0.1))"
   ]
  },
  {
   "cell_type": "code",
   "execution_count": 61,
   "metadata": {},
   "outputs": [
    {
     "data": {
      "text/plain": [
       "<matplotlib.collections.PathCollection at 0x7f7b8d34e2d0>"
      ]
     },
     "execution_count": 61,
     "metadata": {},
     "output_type": "execute_result"
    },
    {
     "data": {
      "image/png": "[encoded data removed]",
      "text/plain": [
       "<Figure size 640x480 with 1 Axes>"
      ]
     },
     "metadata": {},
     "output_type": "display_data"
    }
   ],
   "source": [
    "key0 = r.PRNGKey(0)\n",
    "y = GP0.sample(x=x, key=key0)\n",
    "plt.scatter(x, y)"
   ]
  },
  {
   "cell_type": "code",
   "execution_count": 57,
   "metadata": {},
   "outputs": [],
   "source": [
    "cov = GP0.kernel.matrix(x, x)\n",
    "mean = GP0.mean.vector(x)"
   ]
  },
  {
   "cell_type": "code",
   "execution_count": 59,
   "metadata": {},
   "outputs": [
    {
     "data": {
      "text/plain": [
       "Array([ 0.05923829, -0.02202709, -0.04670704, -0.01298792, -0.05343681,\n",
       "       -0.3195745 , -0.8185658 , -1.3485326 , -1.6316341 , -1.4991419 ,\n",
       "       -1.0162458 , -0.42876604,  0.03350742,  0.33560473,  0.623762  ,\n",
       "        1.0344446 ,  1.5251163 ,  1.9044666 ,  1.9599401 ,  1.6256856 ,\n",
       "        1.0442562 ,  0.45626923,  0.00431847, -0.33917275, -0.5965505 ,\n",
       "       -0.7008728 , -0.5460949 , -0.17033336,  0.25629345,  0.5490223 ],      dtype=float32)"
      ]
     },
     "execution_count": 59,
     "metadata": {},
     "output_type": "execute_result"
    }
   ],
   "source": [
    "r.multivariate_normal(key0, mean, cov, method='svd')"
   ]
  },
  {
   "cell_type": "code",
   "execution_count": 38,
   "metadata": {},
   "outputs": [
    {
     "data": {
      "text/plain": [
       "(100, 100)"
      ]
     },
     "execution_count": 38,
     "metadata": {},
     "output_type": "execute_result"
    }
   ],
   "source": [
    "GP0.kernel.matrix(x, x).shape"
   ]
  },
  {
   "cell_type": "code",
   "execution_count": null,
   "metadata": {},
   "outputs": [],
   "source": []
  }
 ],
 "metadata": {
  "kernelspec": {
   "display_name": ".venv",
   "language": "python",
   "name": "python3"
  },
  "language_info": {
   "codemirror_mode": {
    "name": "ipython",
    "version": 3
   },
   "file_extension": ".py",
   "mimetype": "text/x-python",
   "name": "python",
   "nbconvert_exporter": "python",
   "pygments_lexer": "ipython3",
   "version": "3.11.10"
  }
 },
 "nbformat": 4,
 "nbformat_minor": 2
}
