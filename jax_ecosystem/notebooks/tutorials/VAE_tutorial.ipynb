{
 "cells": [
  {
   "cell_type": "code",
   "execution_count": 1,
   "metadata": {},
   "outputs": [],
   "source": [
    "import matplotlib.pyplot as plt\n",
    "import numpy as np\n",
    "import seaborn as sns\n",
    "from sklearn import datasets\n",
    "sns.set(style='white')"
   ]
  },
  {
   "cell_type": "code",
   "execution_count": 2,
   "metadata": {},
   "outputs": [
    {
     "name": "stderr",
     "output_type": "stream",
     "text": [
      "2024-06-06 12:34:31.749045: I tensorflow/core/platform/cpu_feature_guard.cc:193] This TensorFlow binary is optimized with oneAPI Deep Neural Network Library (oneDNN) to use the following CPU instructions in performance-critical operations:  SSE4.1 SSE4.2 AVX AVX2 FMA\n",
      "To enable them in other operations, rebuild TensorFlow with the appropriate compiler flags.\n"
     ]
    }
   ],
   "source": [
    "import tensorflow as tf\n",
    "import tensorflow_probability as tfp\n",
    "\n",
    "tfk = tf.keras\n",
    "tfkl = tf.keras.layers\n",
    "tfd = tfp.distributions\n",
    "tfpl = tfp.layers"
   ]
  },
  {
   "cell_type": "code",
   "execution_count": 3,
   "metadata": {},
   "outputs": [],
   "source": [
    "encoded_size = 16\n",
    "prior = tfd.Independent(tfd.Normal(loc=tf.zeros(encoded_size), scale=1),\n",
    "                        reinterpreted_batch_ndims=1)"
   ]
  },
  {
   "cell_type": "code",
   "execution_count": 4,
   "metadata": {},
   "outputs": [],
   "source": [
    "input_shape = (28, 28, 1)\n",
    "base_depth = 32"
   ]
  },
  {
   "cell_type": "code",
   "execution_count": 7,
   "metadata": {},
   "outputs": [
    {
     "data": {
      "text/plain": [
       "<keras.engine.sequential.Sequential at 0x7f564b85cd60>"
      ]
     },
     "execution_count": 7,
     "metadata": {},
     "output_type": "execute_result"
    }
   ],
   "source": [
    "tfk.Sequential([\n",
    "    tfkl.InputLayer(input_shape=input_shape),\n",
    "    tfkl.Lambda(lambda x: tf.cast(x, tf.float32) - 0.5),\n",
    "    tfkl.Conv2D(base_depth, 5, strides=1,\n",
    "                padding='same', activation=tf.nn.leaky_relu),\n",
    "    tfkl.Conv2D(base_depth, 5, strides=2,\n",
    "                padding='same', activation=tf.nn.leaky_relu),\n",
    "    tfkl.Conv2D(2 * base_depth, 5, strides=1,\n",
    "                padding='same', activation=tf.nn.leaky_relu),\n",
    "    tfkl.Conv2D(2 * base_depth, 5, strides=2,\n",
    "                padding='same', activation=tf.nn.leaky_relu),\n",
    "    tfkl.Conv2D(4 * encoded_size, 7, strides=1,\n",
    "                padding='valid', activation=tf.nn.leaky_relu),\n",
    "    tfkl.Flatten(),\n",
    "    tfkl.Dense(tfpl.MultivariateNormalTriL.params_size(encoded_size), activation=None),\n",
    "    tfpl.MultivariateNormalTriL(encoded_size, activity_regularizer=tfpl.KLDivergenceRegularizer(prior, weight=1.0))\n",
    "])"
   ]
  },
  {
   "cell_type": "code",
   "execution_count": 21,
   "metadata": {},
   "outputs": [
    {
     "ename": "ImportError",
     "evalue": "cannot import name 'Sequence' from 'collections' (/home/ww347/.conda/envs/google-env/lib/python3.10/collections/__init__.py)",
     "output_type": "error",
     "traceback": [
      "\u001b[0;31m---------------------------------------------------------------------------\u001b[0m",
      "\u001b[0;31mImportError\u001b[0m                               Traceback (most recent call last)",
      "Cell \u001b[0;32mIn[21], line 1\u001b[0m\n\u001b[0;32m----> 1\u001b[0m \u001b[38;5;28;01mfrom\u001b[39;00m \u001b[38;5;21;01mcollections\u001b[39;00m \u001b[38;5;28;01mimport\u001b[39;00m Sequence\n",
      "\u001b[0;31mImportError\u001b[0m: cannot import name 'Sequence' from 'collections' (/home/ww347/.conda/envs/google-env/lib/python3.10/collections/__init__.py)"
     ]
    }
   ],
   "source": [
    "from collections import Sequence"
   ]
  },
  {
   "cell_type": "code",
   "execution_count": 22,
   "metadata": {},
   "outputs": [
    {
     "name": "stdout",
     "output_type": "stream",
     "text": [
      "2.11.0\n",
      "0.14.0\n"
     ]
    }
   ],
   "source": [
    "print(tf.__version__)  # Should match with tfp.__version__\n",
    "print(tfp.__version__)"
   ]
  },
  {
   "cell_type": "code",
   "execution_count": 19,
   "metadata": {},
   "outputs": [],
   "source": [
    "\n",
    "# This code gives an Attribute error\n",
    "# AttributeError: Exception encountered when calling layer \"multivariate_normal_tri_l\" (type MultivariateNormalTriL).\n",
    "\n",
    "# module 'collections' has no attribute 'Sequence'\n",
    "\n",
    "# Call arguments received by layer \"multivariate_normal_tri_l\" (type MultivariateNormalTriL):\n",
    "#   • inputs=tf.Tensor(shape=(None, 152), dtype=float32)\n",
    "#   • args=<class 'inspect._empty'>\n",
    "#   • kwargs={'training': 'None'}\n",
    "    "
   ]
  },
  {
   "cell_type": "code",
   "execution_count": null,
   "metadata": {},
   "outputs": [],
   "source": []
  },
  {
   "cell_type": "markdown",
   "metadata": {},
   "source": [
    "Here received another odd error; though at least the packages are now loading!"
   ]
  },
  {
   "cell_type": "code",
   "execution_count": 11,
   "metadata": {},
   "outputs": [],
   "source": [
    "import pprint"
   ]
  },
  {
   "cell_type": "code",
   "execution_count": 8,
   "metadata": {},
   "outputs": [
    {
     "name": "stdout",
     "output_type": "stream",
     "text": [
      "\u001b[0;31mInit signature:\u001b[0m\n",
      "\u001b[0mtfd\u001b[0m\u001b[0;34m.\u001b[0m\u001b[0mLKJ\u001b[0m\u001b[0;34m(\u001b[0m\u001b[0;34m\u001b[0m\n",
      "\u001b[0;34m\u001b[0m    \u001b[0mdimension\u001b[0m\u001b[0;34m,\u001b[0m\u001b[0;34m\u001b[0m\n",
      "\u001b[0;34m\u001b[0m    \u001b[0mconcentration\u001b[0m\u001b[0;34m,\u001b[0m\u001b[0;34m\u001b[0m\n",
      "\u001b[0;34m\u001b[0m    \u001b[0minput_output_cholesky\u001b[0m\u001b[0;34m=\u001b[0m\u001b[0;32mFalse\u001b[0m\u001b[0;34m,\u001b[0m\u001b[0;34m\u001b[0m\n",
      "\u001b[0;34m\u001b[0m    \u001b[0mvalidate_args\u001b[0m\u001b[0;34m=\u001b[0m\u001b[0;32mFalse\u001b[0m\u001b[0;34m,\u001b[0m\u001b[0;34m\u001b[0m\n",
      "\u001b[0;34m\u001b[0m    \u001b[0mallow_nan_stats\u001b[0m\u001b[0;34m=\u001b[0m\u001b[0;32mTrue\u001b[0m\u001b[0;34m,\u001b[0m\u001b[0;34m\u001b[0m\n",
      "\u001b[0;34m\u001b[0m    \u001b[0mname\u001b[0m\u001b[0;34m=\u001b[0m\u001b[0;34m'LKJ'\u001b[0m\u001b[0;34m,\u001b[0m\u001b[0;34m\u001b[0m\n",
      "\u001b[0;34m\u001b[0m\u001b[0;34m)\u001b[0m\u001b[0;34m\u001b[0m\u001b[0;34m\u001b[0m\u001b[0m\n",
      "\u001b[0;31mDocstring:\u001b[0m     \n",
      "The LKJ distribution on correlation matrices.\n",
      "\n",
      "This is a one-parameter family of distributions on correlation matrices.  The\n",
      "probability density is proportional to the determinant raised to the power of\n",
      "the parameter: `pdf(X; eta) = Z(eta) * det(X) ** (eta - 1)`, where `Z(eta)` is\n",
      "a normalization constant.  The uniform distribution on correlation matrices is\n",
      "the special case `eta = 1`.\n",
      "\n",
      "The distribution is named after Lewandowski, Kurowicka, and Joe, who gave a\n",
      "sampler for the distribution in [(Lewandowski, Kurowicka, Joe, 2009)][1].\n",
      "\n",
      "Note: For better numerical stability, it is recommended that you use\n",
      "`CholeskyLKJ` instead.\n",
      "\n",
      "#### Examples\n",
      "\n",
      "```python\n",
      "# Initialize a single 3x3 LKJ with concentration parameter 1.5\n",
      "dist = tfp.distributions.LKJ(dimension=3, concentration=1.5)\n",
      "\n",
      "# Evaluate this at a batch of two observations, each in R^{3x3}.\n",
      "x = ...  # Shape is [2, 3, 3].\n",
      "dist.prob(x)  # Shape is [2].\n",
      "\n",
      "# Draw 6 LKJ-distributed 3x3 correlation matrices\n",
      "ans = dist.sample(sample_shape=[2, 3], seed=42)\n",
      "# shape of ans is [2, 3, 3, 3]\n",
      "```\n",
      "\u001b[0;31mInit docstring:\u001b[0m\n",
      "Construct LKJ distributions.\n",
      "\n",
      "Args:\n",
      "  dimension: Python `int`. The dimension of the correlation matrices\n",
      "    to sample.\n",
      "  concentration: `float` or `double` `Tensor`. The positive concentration\n",
      "    parameter of the LKJ distributions. The pdf of a sample matrix `X` is\n",
      "    proportional to `det(X) ** (concentration - 1)`.\n",
      "  input_output_cholesky: Python `bool`. If `True`, functions whose input or\n",
      "    output have the semantics of samples assume inputs are in Cholesky form\n",
      "    and return outputs in Cholesky form. In particular, if this flag is\n",
      "    `True`, input to `log_prob` is presumed of Cholesky form and output from\n",
      "    `sample` is of Cholesky form.  Setting this argument to `True` is purely\n",
      "    a computational optimization and does not change the underlying\n",
      "    distribution. Additionally, validation checks which are only defined on\n",
      "    the multiplied-out form are omitted, even if `validate_args` is `True`.\n",
      "    Default value: `False` (i.e., input/output does not have Cholesky\n",
      "    semantics). WARNING: Do not set this boolean to true, when using\n",
      "    `tfp.mcmc`. The density is not the density of Cholesky factors of\n",
      "    correlation matrices drawn via LKJ.\n",
      "  validate_args: Python `bool`, default `False`. When `True` distribution\n",
      "    parameters are checked for validity despite possibly degrading runtime\n",
      "    performance. When `False` invalid inputs may silently render incorrect\n",
      "    outputs.\n",
      "  allow_nan_stats: Python `bool`, default `True`. When `True`, statistics\n",
      "    (e.g., mean, mode, variance) use the value `NaN` to indicate the\n",
      "    result is undefined. When `False`, an exception is raised if one or\n",
      "    more of the statistic's batch members are undefined.\n",
      "  name: Python `str` name prefixed to Ops created by this class.\n",
      "\n",
      "Raises:\n",
      "  ValueError: If `dimension` is negative.\n",
      "\u001b[0;31mFile:\u001b[0m           ~/.conda/envs/google-env/lib/python3.10/site-packages/tensorflow_probability/python/distributions/lkj.py\n",
      "\u001b[0;31mType:\u001b[0m           _AutoCompositeTensorDistributionMeta\n",
      "\u001b[0;31mSubclasses:\u001b[0m     "
     ]
    }
   ],
   "source": [
    "tfd.LKJ?"
   ]
  },
  {
   "cell_type": "code",
   "execution_count": null,
   "metadata": {},
   "outputs": [],
   "source": []
  }
 ],
 "metadata": {
  "kernelspec": {
   "display_name": "proper-mc-conda-env",
   "language": "python",
   "name": "python3"
  },
  "language_info": {
   "codemirror_mode": {
    "name": "ipython",
    "version": 3
   },
   "file_extension": ".py",
   "mimetype": "text/x-python",
   "name": "python",
   "nbconvert_exporter": "python",
   "pygments_lexer": "ipython3",
   "version": "3.1.-1"
  }
 },
 "nbformat": 4,
 "nbformat_minor": 2
}
