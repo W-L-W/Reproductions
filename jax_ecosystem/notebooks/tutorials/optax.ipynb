{
 "cells": [
  {
   "cell_type": "markdown",
   "metadata": {},
   "source": [
    "# Getting started\n",
    "https://optax.readthedocs.io/en/latest/getting_started.html"
   ]
  },
  {
   "cell_type": "markdown",
   "metadata": {},
   "source": [
    "## E.g. Fitting a Linear Model"
   ]
  },
  {
   "cell_type": "code",
   "execution_count": 5,
   "metadata": {},
   "outputs": [],
   "source": [
    "import jax.numpy as jnp\n",
    "import jax\n",
    "import optax\n",
    "import functools\n",
    "import jax.random as r"
   ]
  },
  {
   "cell_type": "code",
   "execution_count": 4,
   "metadata": {},
   "outputs": [],
   "source": [
    "@functools.partial(jax.vmap, in_axes=(None,0))\n",
    "def network(params, x):\n",
    "    return jnp.dot(params, x)\n",
    "\n",
    "def compute_loss(params, x, y):\n",
    "    y_pred = network(params, x)\n",
    "    loss = jnp.mean(optax.l2_loss(y_pred, y))\n",
    "    return loss"
   ]
  },
  {
   "cell_type": "code",
   "execution_count": 6,
   "metadata": {},
   "outputs": [],
   "source": [
    "key = jax.random.key(42)\n",
    "target_params = 0.5\n",
    "\n",
    "# Generate some data\n",
    "xs = r.normal(key, (16, 2))\n",
    "ys = jnp.sum(xs * target_params, axis=1)"
   ]
  },
  {
   "cell_type": "markdown",
   "metadata": {},
   "source": [
    "### Basic usage"
   ]
  },
  {
   "cell_type": "code",
   "execution_count": 20,
   "metadata": {},
   "outputs": [],
   "source": [
    "start_learning_rate = 1e-1\n",
    "optimizer = optax.adam(start_learning_rate)\n",
    "\n",
    "# Initialize parameters of model and optimizer\n",
    "params = jnp.array([0., 0.])\n",
    "opt_state = optimizer.init(params)"
   ]
  },
  {
   "cell_type": "code",
   "execution_count": 21,
   "metadata": {},
   "outputs": [
    {
     "name": "stdout",
     "output_type": "stream",
     "text": [
      "Iteration 1, loss 0.13446101546287537\n",
      "Iteration 2, loss 0.06221400946378708\n",
      "Iteration 4, loss 0.001146992202848196\n",
      "Iteration 8, loss 0.05236002802848816\n",
      "Iteration 16, loss 0.0026888251304626465\n"
     ]
    },
    {
     "name": "stdout",
     "output_type": "stream",
     "text": [
      "Iteration 32, loss 0.0014506187289953232\n",
      "Iteration 64, loss 1.7872731632451178e-06\n",
      "Iteration 128, loss 2.593407657514035e-07\n"
     ]
    }
   ],
   "source": [
    "stores = []\n",
    "\n",
    "for count in range(400):\n",
    "    grads = jax.grad(compute_loss)(params, xs, ys)\n",
    "    updates, opt_state = optimizer.update(grads, opt_state, params)\n",
    "    params = optax.apply_updates(params, updates)\n",
    "\n",
    "    if count in 2**jnp.arange(8):\n",
    "        print(f'Iteration {count}, loss {compute_loss(params, xs, ys)}')\n",
    "        stores.append(params)\n",
    "\n",
    "assert jnp.allclose(params, target_params), \\\n",
    "'Optimization should retrieve the target parameters'"
   ]
  },
  {
   "cell_type": "code",
   "execution_count": 22,
   "metadata": {},
   "outputs": [
    {
     "data": {
      "text/plain": [
       "[<matplotlib.lines.Line2D at 0x7f8d823b2cb0>]"
      ]
     },
     "execution_count": 22,
     "metadata": {},
     "output_type": "execute_result"
    },
    {
     "data": {
      "image/png": "[encoded data removed]",
      "text/plain": [
       "<Figure size 640x480 with 1 Axes>"
      ]
     },
     "metadata": {},
     "output_type": "display_data"
    }
   ],
   "source": [
    "# plot the trajectory of the optimization\n",
    "import matplotlib.pyplot as plt\n",
    "\n",
    "plt.plot([store[0] for store in stores], [store[1] for store in stores], 'o-')"
   ]
  },
  {
   "cell_type": "markdown",
   "metadata": {},
   "source": [
    "### Custom optimizers"
   ]
  },
  {
   "cell_type": "code",
   "execution_count": 23,
   "metadata": {},
   "outputs": [],
   "source": [
    "# Exponential decay of the learning rate\n",
    "scheduler = optax.exponential_decay(\n",
    "    init_value=start_learning_rate,\n",
    "    transition_steps=100,\n",
    "    decay_rate=0.99\n",
    ")\n",
    "\n",
    "# Combining gradient transforms with `optax.chain`\n",
    "gradient_transform = optax.chain(\n",
    "    optax.clip_by_global_norm(1.0),\n",
    "    optax.scale_by_adam(),\n",
    "    optax.scale_by_schedule(scheduler),\n",
    "    # scale by -1 because want to minimize loss\n",
    "    optax.scale(-1.)\n",
    ")"
   ]
  },
  {
   "cell_type": "code",
   "execution_count": 24,
   "metadata": {},
   "outputs": [],
   "source": [
    "# Initialize parameters of model and optimizer\n",
    "params = jnp.array([0., 0.])\n",
    "opt_state = gradient_transform.init(params)\n",
    "\n",
    "# simple update loop\n",
    "for _ in range(400):\n",
    "    grads = jax.grad(compute_loss)(params, xs, ys)\n",
    "    updates, opt_state = gradient_transform.update(grads, opt_state, params)\n",
    "    params = optax.apply_updates(params, updates)"
   ]
  },
  {
   "cell_type": "markdown",
   "metadata": {},
   "source": [
    "### Advanced usage"
   ]
  },
  {
   "cell_type": "markdown",
   "metadata": {},
   "source": []
  }
 ],
 "metadata": {
  "kernelspec": {
   "display_name": "local_conda_env_jax",
   "language": "python",
   "name": "python3"
  },
  "language_info": {
   "codemirror_mode": {
    "name": "ipython",
    "version": 3
   },
   "file_extension": ".py",
   "mimetype": "text/x-python",
   "name": "python",
   "nbconvert_exporter": "python",
   "pygments_lexer": "ipython3",
   "version": "3.10.13"
  }
 },
 "nbformat": 4,
 "nbformat_minor": 2
}
