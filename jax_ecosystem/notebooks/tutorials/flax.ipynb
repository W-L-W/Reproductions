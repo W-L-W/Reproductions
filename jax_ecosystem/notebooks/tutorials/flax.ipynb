{
 "cells": [
  {
   "cell_type": "markdown",
   "metadata": {},
   "source": [
    "# Imports"
   ]
  },
  {
   "cell_type": "code",
   "execution_count": 2,
   "metadata": {},
   "outputs": [],
   "source": [
    "import jax.numpy as jnp\n",
    "import jax\n",
    "import optax\n",
    "import functools\n",
    "import jax.random as r\n",
    "import flax"
   ]
  },
  {
   "cell_type": "markdown",
   "metadata": {},
   "source": [
    "# MNIST tutorial"
   ]
  },
  {
   "cell_type": "code",
   "execution_count": 3,
   "metadata": {},
   "outputs": [
    {
     "name": "stderr",
     "output_type": "stream",
     "text": [
      "2024-10-23 10:01:19.702129: E external/local_xla/xla/stream_executor/cuda/cuda_fft.cc:485] Unable to register cuFFT factory: Attempting to register factory for plugin cuFFT when one has already been registered\n",
      "2024-10-23 10:01:20.444124: E external/local_xla/xla/stream_executor/cuda/cuda_dnn.cc:8454] Unable to register cuDNN factory: Attempting to register factory for plugin cuDNN when one has already been registered\n",
      "2024-10-23 10:01:20.614550: E external/local_xla/xla/stream_executor/cuda/cuda_blas.cc:1452] Unable to register cuBLAS factory: Attempting to register factory for plugin cuBLAS when one has already been registered\n",
      "2024-10-23 10:01:34.663025: W tensorflow/compiler/tf2tensorrt/utils/py_utils.cc:38] TF-TRT Warning: Could not find TensorRT\n"
     ]
    }
   ],
   "source": [
    "import tensorflow_datasets as tfds\n",
    "import tensorflow as tf"
   ]
  },
  {
   "cell_type": "code",
   "execution_count": 4,
   "metadata": {},
   "outputs": [],
   "source": [
    "tf.random.set_seed(0)\n",
    "\n",
    "train_steps = 1200\n",
    "eval_every = 200\n",
    "batch_size = 32\n",
    "\n",
    "train_ds : tf.data.Dataset = tfds.load('mnist', split='train')\n",
    "test_ds: tf.data.Dataset = tfds.load('mnist', split='test')\n",
    "\n",
    "mapper = lambda sample: {\n",
    "    'image': tf.cast(sample['image'], tf.float32) / 255.,\n",
    "    'label': sample['label'],\n",
    "}\n",
    "train_ds = train_ds.map(mapper)\n",
    "test_ds = test_ds.map(mapper)\n",
    "\n",
    "train_ds = train_ds.repeat().shuffle(1024)\n",
    "# Group into batches of `batch_size` and skip incomplete batches, prefetch the \n",
    "# next sample to improve latency\n",
    "train_ds = train_ds.batch(batch_size, drop_remainder=True).take(train_steps).prefetch(1)\n",
    "test_ds = test_ds.batch(batch_size).prefetch(1)"
   ]
  },
  {
   "cell_type": "code",
   "execution_count": 5,
   "metadata": {},
   "outputs": [],
   "source": [
    "from flax import nnx\n",
    "from functools import partial"
   ]
  },
  {
   "cell_type": "code",
   "execution_count": 6,
   "metadata": {},
   "outputs": [],
   "source": [
    "class CNN(nnx.Module):\n",
    "    \"\"\"A simple CNN model.\"\"\"\n",
    "\n",
    "    def __init__(self, *, rngs: nnx.Rngs):\n",
    "        # to do\n",
    "        self.conv1 = nnx.Conv(1, 32, kernel_size=(3,3), rngs=rngs)\n",
    "        self.conv2 = nnx.Conv(32, 64, kernel_size=(3,3), rngs=rngs)\n",
    "        self.avg_pool = partial(nnx.avg_pool, window_shape=(2, 2), strides=(2, 2))\n",
    "        self.linear1 = nnx.Linear(3136, 256, rngs=rngs)\n",
    "        self.linear2 = nnx.Linear(256, 10, rngs=rngs)\n",
    "\n",
    "    def __call__(self, x):\n",
    "        x = self.avg_pool(nnx.relu(self.conv1(x)))\n",
    "        x = self.avg_pool(nnx.relu(self.conv2(x)))\n",
    "        x = x.reshape(x.shape[0], -1) # flatten\n",
    "        x = nnx.relu(self.linear1(x))\n",
    "        x = self.linear2(x)\n",
    "        return x"
   ]
  },
  {
   "cell_type": "code",
   "execution_count": 7,
   "metadata": {},
   "outputs": [
    {
     "name": "stdout",
     "output_type": "stream",
     "text": [
      "CNN(\n",
      "  conv1=Conv(\n",
      "    kernel_shape=(3, 3, 1, 32),\n",
      "    kernel=Param(\n",
      "      value=Array(shape=(3, 3, 1, 32), dtype=float32)\n",
      "    ),\n",
      "    bias=Param(\n",
      "      value=Array(shape=(32,), dtype=float32)\n",
      "    ),\n",
      "    in_features=1,\n",
      "    out_features=32,\n",
      "    kernel_size=(3, 3),\n",
      "    strides=1,\n",
      "    padding='SAME',\n",
      "    input_dilation=1,\n",
      "    kernel_dilation=1,\n",
      "    feature_group_count=1,\n",
      "    use_bias=True,\n",
      "    mask=None,\n",
      "    dtype=None,\n",
      "    param_dtype=<class 'jax.numpy.float32'>,\n",
      "    precision=None,\n",
      "    kernel_init=<function variance_scaling.<locals>.init at 0x7f4074395480>,\n",
      "    bias_init=<function zeros at 0x7f40c791cd30>,\n",
      "    conv_general_dilated=<function conv_general_dilated at 0x7f40c7e2b640>\n",
      "  ),\n",
      "  conv2=Conv(\n",
      "    kernel_shape=(3, 3, 32, 64),\n",
      "    kernel=Param(\n",
      "      value=Array(shape=(3, 3, 32, 64), dtype=float32)\n",
      "    ),\n",
      "    bias=Param(\n",
      "      value=Array(shape=(64,), dtype=float32)\n",
      "    ),\n",
      "    in_features=32,\n",
      "    out_features=64,\n",
      "    kernel_size=(3, 3),\n",
      "    strides=1,\n",
      "    padding='SAME',\n",
      "    input_dilation=1,\n",
      "    kernel_dilation=1,\n",
      "    feature_group_count=1,\n",
      "    use_bias=True,\n",
      "    mask=None,\n",
      "    dtype=None,\n",
      "    param_dtype=<class 'jax.numpy.float32'>,\n",
      "    precision=None,\n",
      "    kernel_init=<function variance_scaling.<locals>.init at 0x7f4074395480>,\n",
      "    bias_init=<function zeros at 0x7f40c791cd30>,\n",
      "    conv_general_dilated=<function conv_general_dilated at 0x7f40c7e2b640>\n",
      "  ),\n",
      "  avg_pool=functools.partial(<function avg_pool at 0x7f40c72b2dd0>, window_shape=(2, 2), strides=(2, 2)),\n",
      "  linear1=Linear(\n",
      "    kernel=Param(\n",
      "      value=Array(shape=(3136, 256), dtype=float32)\n",
      "    ),\n",
      "    bias=Param(\n",
      "      value=Array(shape=(256,), dtype=float32)\n",
      "    ),\n",
      "    in_features=3136,\n",
      "    out_features=256,\n",
      "    use_bias=True,\n",
      "    dtype=None,\n",
      "    param_dtype=<class 'jax.numpy.float32'>,\n",
      "    precision=None,\n",
      "    kernel_init=<function variance_scaling.<locals>.init at 0x7f4074395480>,\n",
      "    bias_init=<function zeros at 0x7f40c791cd30>,\n",
      "    dot_general=<function dot_general at 0x7f40c7db6320>\n",
      "  ),\n",
      "  linear2=Linear(\n",
      "    kernel=Param(\n",
      "      value=Array(shape=(256, 10), dtype=float32)\n",
      "    ),\n",
      "    bias=Param(\n",
      "      value=Array(shape=(10,), dtype=float32)\n",
      "    ),\n",
      "    in_features=256,\n",
      "    out_features=10,\n",
      "    use_bias=True,\n",
      "    dtype=None,\n",
      "    param_dtype=<class 'jax.numpy.float32'>,\n",
      "    precision=None,\n",
      "    kernel_init=<function variance_scaling.<locals>.init at 0x7f4074395480>,\n",
      "    bias_init=<function zeros at 0x7f40c791cd30>,\n",
      "    dot_general=<function dot_general at 0x7f40c7db6320>\n",
      "  )\n",
      ")\n"
     ]
    }
   ],
   "source": [
    "# Instantiate the model.\n",
    "model = CNN(rngs=nnx.Rngs(0))\n",
    "# Visualise it\n",
    "nnx.display(model)"
   ]
  },
  {
   "cell_type": "code",
   "execution_count": 8,
   "metadata": {},
   "outputs": [
    {
     "name": "stdout",
     "output_type": "stream",
     "text": [
      "[[-0.06820834 -0.14743432  0.00265852 -0.21736552  0.16673796 -0.00923909\n",
      "  -0.06636676  0.28341877  0.3375435  -0.20142873]]\n"
     ]
    }
   ],
   "source": [
    "y = model(jnp.ones((1, 28, 28, 1)))\n",
    "nnx.display(y)"
   ]
  },
  {
   "cell_type": "code",
   "execution_count": 9,
   "metadata": {},
   "outputs": [
    {
     "name": "stdout",
     "output_type": "stream",
     "text": [
      "Optimizer(\n",
      "  step=OptState(\n",
      "    value=Array(0, dtype=uint32)\n",
      "  ),\n",
      "  model=CNN(\n",
      "    conv1=Conv(\n",
      "      kernel_shape=(3, 3, 1, 32),\n",
      "      kernel=Param(\n",
      "        value=Array(shape=(3, 3, 1, 32), dtype=float32)\n",
      "      ),\n",
      "      bias=Param(\n",
      "        value=Array(shape=(32,), dtype=float32)\n",
      "      ),\n",
      "      in_features=1,\n",
      "      out_features=32,\n",
      "      kernel_size=(3, 3),\n",
      "      strides=1,\n",
      "      padding='SAME',\n",
      "      input_dilation=1,\n",
      "      kernel_dilation=1,\n",
      "      feature_group_count=1,\n",
      "      use_bias=True,\n",
      "      mask=None,\n",
      "      dtype=None,\n",
      "      param_dtype=<class 'jax.numpy.float32'>,\n",
      "      precision=None,\n",
      "      kernel_init=<function variance_scaling.<locals>.init at 0x7f4074395480>,\n",
      "      bias_init=<function zeros at 0x7f40c791cd30>,\n",
      "      conv_general_dilated=<function conv_general_dilated at 0x7f40c7e2b640>\n",
      "    ),\n",
      "    conv2=Conv(\n",
      "      kernel_shape=(3, 3, 32, 64),\n",
      "      kernel=Param(\n",
      "        value=Array(shape=(3, 3, 32, 64), dtype=float32)\n",
      "      ),\n",
      "      bias=Param(\n",
      "        value=Array(shape=(64,), dtype=float32)\n",
      "      ),\n",
      "      in_features=32,\n",
      "      out_features=64,\n",
      "      kernel_size=(3, 3),\n",
      "      strides=1,\n",
      "      padding='SAME',\n",
      "      input_dilation=1,\n",
      "      kernel_dilation=1,\n",
      "      feature_group_count=1,\n",
      "      use_bias=True,\n",
      "      mask=None,\n",
      "      dtype=None,\n",
      "      param_dtype=<class 'jax.numpy.float32'>,\n",
      "      precision=None,\n",
      "      kernel_init=<function variance_scaling.<locals>.init at 0x7f4074395480>,\n",
      "      bias_init=<function zeros at 0x7f40c791cd30>,\n",
      "      conv_general_dilated=<function conv_general_dilated at 0x7f40c7e2b640>\n",
      "    ),\n",
      "    avg_pool=functools.partial(<function avg_pool at 0x7f40c72b2dd0>, window_shape=(2, 2), strides=(2, 2)),\n",
      "    linear1=Linear(\n",
      "      kernel=Param(\n",
      "        value=Array(shape=(3136, 256), dtype=float32)\n",
      "      ),\n",
      "      bias=Param(\n",
      "        value=Array(shape=(256,), dtype=float32)\n",
      "      ),\n",
      "      in_features=3136,\n",
      "      out_features=256,\n",
      "      use_bias=True,\n",
      "      dtype=None,\n",
      "      param_dtype=<class 'jax.numpy.float32'>,\n",
      "      precision=None,\n",
      "      kernel_init=<function variance_scaling.<locals>.init at 0x7f4074395480>,\n",
      "      bias_init=<function zeros at 0x7f40c791cd30>,\n",
      "      dot_general=<function dot_general at 0x7f40c7db6320>\n",
      "    ),\n",
      "    linear2=Linear(\n",
      "      kernel=Param(\n",
      "        value=Array(shape=(256, 10), dtype=float32)\n",
      "      ),\n",
      "      bias=Param(\n",
      "        value=Array(shape=(10,), dtype=float32)\n",
      "      ),\n",
      "      in_features=256,\n",
      "      out_features=10,\n",
      "      use_bias=True,\n",
      "      dtype=None,\n",
      "      param_dtype=<class 'jax.numpy.float32'>,\n",
      "      precision=None,\n",
      "      kernel_init=<function variance_scaling.<locals>.init at 0x7f4074395480>,\n",
      "      bias_init=<function zeros at 0x7f40c791cd30>,\n",
      "      dot_general=<function dot_general at 0x7f40c7db6320>\n",
      "    )\n",
      "  ),\n",
      "  tx=GradientTransformationExtraArgs(init=<function chain.<locals>.init_fn at 0x7f403c5429e0>, update=<function chain.<locals>.update_fn at 0x7f403c543490>),\n",
      "  opt_state=(ScaleByAdamState(count=OptArray(\n",
      "    value=Array(0, dtype=int32)\n",
      "  ), mu=State({\n",
      "    'conv1': {\n",
      "      'bias': OptVariable(\n",
      "        source_type=<class 'flax.nnx.variablelib.Param'>,\n",
      "        value=Array(shape=(32,), dtype=float32)\n",
      "      ),\n",
      "      'kernel': OptVariable(\n",
      "        source_type=<class 'flax.nnx.variablelib.Param'>,\n",
      "        value=Array(shape=(3, 3, 1, 32), dtype=float32)\n",
      "      )\n",
      "    },\n",
      "    'conv2': {\n",
      "      'bias': OptVariable(\n",
      "        source_type=<class 'flax.nnx.variablelib.Param'>,\n",
      "        value=Array(shape=(64,), dtype=float32)\n",
      "      ),\n",
      "      'kernel': OptVariable(\n",
      "        source_type=<class 'flax.nnx.variablelib.Param'>,\n",
      "        value=Array(shape=(3, 3, 32, 64), dtype=float32)\n",
      "      )\n",
      "    },\n",
      "    'linear1': {\n",
      "      'bias': OptVariable(\n",
      "        source_type=<class 'flax.nnx.variablelib.Param'>,\n",
      "        value=Array(shape=(256,), dtype=float32)\n",
      "      ),\n",
      "      'kernel': OptVariable(\n",
      "        source_type=<class 'flax.nnx.variablelib.Param'>,\n",
      "        value=Array(shape=(3136, 256), dtype=float32)\n",
      "      )\n",
      "    },\n",
      "    'linear2': {\n",
      "      'bias': OptVariable(\n",
      "        source_type=<class 'flax.nnx.variablelib.Param'>,\n",
      "        value=Array(shape=(10,), dtype=float32)\n",
      "      ),\n",
      "      'kernel': OptVariable(\n",
      "        source_type=<class 'flax.nnx.variablelib.Param'>,\n",
      "        value=Array(shape=(256, 10), dtype=float32)\n",
      "      )\n",
      "    }\n",
      "  }), nu=State({\n",
      "    'conv1': {\n",
      "      'bias': OptVariable(\n",
      "        source_type=<class 'flax.nnx.variablelib.Param'>,\n",
      "        value=Array(shape=(32,), dtype=float32)\n",
      "      ),\n",
      "      'kernel': OptVariable(\n",
      "        source_type=<class 'flax.nnx.variablelib.Param'>,\n",
      "        value=Array(shape=(3, 3, 1, 32), dtype=float32)\n",
      "      )\n",
      "    },\n",
      "    'conv2': {\n",
      "      'bias': OptVariable(\n",
      "        source_type=<class 'flax.nnx.variablelib.Param'>,\n",
      "        value=Array(shape=(64,), dtype=float32)\n",
      "      ),\n",
      "      'kernel': OptVariable(\n",
      "        source_type=<class 'flax.nnx.variablelib.Param'>,\n",
      "        value=Array(shape=(3, 3, 32, 64), dtype=float32)\n",
      "      )\n",
      "    },\n",
      "    'linear1': {\n",
      "      'bias': OptVariable(\n",
      "        source_type=<class 'flax.nnx.variablelib.Param'>,\n",
      "        value=Array(shape=(256,), dtype=float32)\n",
      "      ),\n",
      "      'kernel': OptVariable(\n",
      "        source_type=<class 'flax.nnx.variablelib.Param'>,\n",
      "        value=Array(shape=(3136, 256), dtype=float32)\n",
      "      )\n",
      "    },\n",
      "    'linear2': {\n",
      "      'bias': OptVariable(\n",
      "        source_type=<class 'flax.nnx.variablelib.Param'>,\n",
      "        value=Array(shape=(10,), dtype=float32)\n",
      "      ),\n",
      "      'kernel': OptVariable(\n",
      "        source_type=<class 'flax.nnx.variablelib.Param'>,\n",
      "        value=Array(shape=(256, 10), dtype=float32)\n",
      "      )\n",
      "    }\n",
      "  })), EmptyState(), EmptyState()),\n",
      "  wrt=<class 'flax.nnx.variablelib.Param'>\n",
      ")\n"
     ]
    }
   ],
   "source": [
    "import optax\n",
    "learning_rate = 0.005\n",
    "momentum = 0.9\n",
    "\n",
    "optimizer = nnx.Optimizer(model, optax.adamw(learning_rate, momentum))\n",
    "metrics = nnx.MultiMetric(\n",
    "    accuracy=nnx.metrics.Accuracy(),\n",
    "    loss=nnx.metrics.Average('loss'),\n",
    ")\n",
    "nnx.display(optimizer)"
   ]
  },
  {
   "cell_type": "code",
   "execution_count": 10,
   "metadata": {},
   "outputs": [],
   "source": [
    "def loss_fn(model: CNN, batch):\n",
    "    logits = model(batch['image'])\n",
    "    loss = optax.softmax_cross_entropy_with_integer_labels(\n",
    "        logits=logits, labels=batch['label']\n",
    "    ).mean()\n",
    "    return loss, logits\n",
    "\n",
    "@nnx.jit\n",
    "def train_step(model: CNN, optimizer: nnx.Optimizer, metrics: nnx.MultiMetric, batch):\n",
    "    \"\"\"Train for a single step\"\"\"\n",
    "    grad_fn = nnx.value_and_grad(loss_fn, has_aux=True)\n",
    "    (loss, logits), grads = grad_fn(model, batch)\n",
    "    metrics.update(loss=loss, logits=logits, labels=batch['label']) # In place updates\n",
    "    optimizer.update(grads) # In place updates\n",
    "\n",
    "@nnx.jit\n",
    "def eval_step(model: CNN, metrics: nnx.MultiMetric, batch):\n",
    "    loss, logits = loss_fn(model, batch)\n",
    "    metrics.update(loss=loss, logits=logits, labels=batch['label']) # In place updates\n",
    "    "
   ]
  },
  {
   "cell_type": "code",
   "execution_count": 11,
   "metadata": {},
   "outputs": [],
   "source": [
    "metrics_history = {\n",
    "    'train_loss': [],\n",
    "    'train_accuracy': [],\n",
    "    'test_loss': [],\n",
    "    'test_accuracy': [],\n",
    "}"
   ]
  },
  {
   "cell_type": "markdown",
   "metadata": {},
   "source": [
    "Some questions / thoughts to consider:\n",
    "- train_ds and test_ds get passed through as_numpy_iterator; does this mean return plain numpy arrays? presume that jax/flax then automatically converts these to numpy?"
   ]
  },
  {
   "cell_type": "code",
   "execution_count": 13,
   "metadata": {},
   "outputs": [
    {
     "name": "stdout",
     "output_type": "stream",
     "text": [
      "[train] step: 200, loss: 0.1190311461687088, accuracy: 96.04430389404297\n",
      "[test] step: 200, loss: 0.08968482166528702, accuracy: 97.38999938964844\n",
      "[train] step: 400, loss: 0.10440880060195923, accuracy: 96.984375\n",
      "[test] step: 400, loss: 0.0835433080792427, accuracy: 97.2699966430664\n",
      "[train] step: 600, loss: 0.08121555298566818, accuracy: 97.546875\n",
      "[test] step: 600, loss: 0.05268009006977081, accuracy: 98.27999877929688\n",
      "[train] step: 800, loss: 0.07464923709630966, accuracy: 97.59375\n",
      "[test] step: 800, loss: 0.0654367133975029, accuracy: 98.02999877929688\n",
      "[train] step: 1000, loss: 0.07297688722610474, accuracy: 97.765625\n",
      "[test] step: 1000, loss: 0.06266036629676819, accuracy: 98.0\n"
     ]
    },
    {
     "name": "stderr",
     "output_type": "stream",
     "text": [
      "2024-10-23 10:31:11.312092: W tensorflow/core/kernels/data/cache_dataset_ops.cc:913] The calling iterator did not fully read the dataset being cached. In order to avoid unexpected truncation of the dataset, the partially cached contents of the dataset  will be discarded. This can happen if you have an input pipeline similar to `dataset.cache().take(k).repeat()`. You should use `dataset.take(k).cache().repeat()` instead.\n"
     ]
    },
    {
     "name": "stdout",
     "output_type": "stream",
     "text": [
      "[train] step: 1199, loss: 0.06425396353006363, accuracy: 98.08416748046875\n",
      "[test] step: 1199, loss: 0.07687821239233017, accuracy: 97.56999969482422\n"
     ]
    }
   ],
   "source": [
    "for step, batch in enumerate(train_ds.as_numpy_iterator()):\n",
    "    # Run the optimization for one step and make stateful update to\n",
    "    # model, optimizer, and metrics\n",
    "    train_step(model, optimizer, metrics, batch)\n",
    "\n",
    "    if step > 0 and (step % eval_every == 0 or step == train_steps - 1):\n",
    "        # Log training metrics\n",
    "        for metric, value in metrics.compute().items():\n",
    "            metrics_history[f'train_{metric}'].append(value)\n",
    "        metrics.reset()\n",
    "\n",
    "        # Compute metrics on test set\n",
    "        for test_batch in test_ds.as_numpy_iterator():\n",
    "            eval_step(model, metrics, test_batch)\n",
    "\n",
    "        # Log the test metrics.\n",
    "        for metric, value in metrics.compute().items():\n",
    "            metrics_history[f'test_{metric}'].append(value)\n",
    "        metrics.reset()\n",
    "\n",
    "        print(\n",
    "            f\"[train] step: {step}, \"\n",
    "            f\"loss: {metrics_history['train_loss'][-1]}, \"\n",
    "            f\"accuracy: {metrics_history['train_accuracy'][-1] * 100}\"\n",
    "        )\n",
    "        print(\n",
    "            f\"[test] step: {step}, \"\n",
    "            f\"loss: {metrics_history['test_loss'][-1]}, \"\n",
    "            f\"accuracy: {metrics_history['test_accuracy'][-1] * 100}\"\n",
    "        )\n"
   ]
  },
  {
   "cell_type": "code",
   "execution_count": 14,
   "metadata": {},
   "outputs": [
    {
     "data": {
      "image/png": "[encoded data removed]",
      "text/plain": [
       "<Figure size 1500x500 with 2 Axes>"
      ]
     },
     "metadata": {},
     "output_type": "display_data"
    }
   ],
   "source": [
    "import matplotlib.pyplot as plt\n",
    "\n",
    "fig, (ax1, ax2) = plt.subplots(1, 2, figsize=(15, 5))\n",
    "ax1.set_title('Loss')\n",
    "ax2.set_title('Accuracy')\n",
    "for dataset in ('train', 'test'):\n",
    "    ax1.plot(metrics_history[f'{dataset}_loss'], label=f'{dataset}_loss')\n",
    "    ax2.plot(metrics_history[f'{dataset}_accuracy'], label=f'{dataset}_accuracy')\n",
    "\n",
    "ax1.legend()\n",
    "ax2.legend()\n",
    "plt.show()"
   ]
  },
  {
   "cell_type": "markdown",
   "metadata": {},
   "source": [
    "## 10. Inference on the test set"
   ]
  },
  {
   "cell_type": "code",
   "execution_count": 16,
   "metadata": {},
   "outputs": [],
   "source": [
    "model.eval() # Switch to evaluation mode\n",
    "\n",
    "@nnx.jit\n",
    "def pred_step(model: CNN, batch):\n",
    "    logits = model(batch['image'])\n",
    "    return logits.argmax(axis=1)"
   ]
  },
  {
   "cell_type": "code",
   "execution_count": 17,
   "metadata": {},
   "outputs": [
    {
     "data": {
      "image/png": "[encoded data removed]",
      "text/plain": [
       "<Figure size 1200x1200 with 25 Axes>"
      ]
     },
     "metadata": {},
     "output_type": "display_data"
    }
   ],
   "source": [
    "test_batch = test_ds.as_numpy_iterator().next()\n",
    "pred = pred_step(model, test_batch)\n",
    "\n",
    "fig, axs = plt.subplots(5, 5, figsize=(12, 12))\n",
    "for i, ax in enumerate(axs.flatten()):\n",
    "  ax.imshow(test_batch['image'][i, ..., 0], cmap='gray')\n",
    "  ax.set_title(f'label={pred[i]}')\n",
    "  ax.axis('off')"
   ]
  },
  {
   "cell_type": "code",
   "execution_count": 24,
   "metadata": {},
   "outputs": [
    {
     "data": {
      "text/plain": [
       "(28, 28, 1)"
      ]
     },
     "execution_count": 24,
     "metadata": {},
     "output_type": "execute_result"
    }
   ],
   "source": [
    "test_batch['image'][0].shape"
   ]
  },
  {
   "cell_type": "code",
   "execution_count": 29,
   "metadata": {},
   "outputs": [
    {
     "data": {
      "text/plain": [
       "'0.10.0'"
      ]
     },
     "execution_count": 29,
     "metadata": {},
     "output_type": "execute_result"
    }
   ],
   "source": [
    "import flax\n",
    "flax.__version__"
   ]
  },
  {
   "cell_type": "code",
   "execution_count": 25,
   "metadata": {},
   "outputs": [
    {
     "name": "stdout",
     "output_type": "stream",
     "text": [
      "\u001b[0;31mInit signature:\u001b[0m \u001b[0mnnx\u001b[0m\u001b[0;34m.\u001b[0m\u001b[0mConv\u001b[0m\u001b[0;34m(\u001b[0m\u001b[0;34m*\u001b[0m\u001b[0margs\u001b[0m\u001b[0;34m:\u001b[0m \u001b[0;34m'Any'\u001b[0m\u001b[0;34m,\u001b[0m \u001b[0;34m**\u001b[0m\u001b[0mkwargs\u001b[0m\u001b[0;34m:\u001b[0m \u001b[0;34m'Any'\u001b[0m\u001b[0;34m)\u001b[0m \u001b[0;34m->\u001b[0m \u001b[0;34m'Any'\u001b[0m\u001b[0;34m\u001b[0m\u001b[0;34m\u001b[0m\u001b[0m\n",
      "\u001b[0;31mDocstring:\u001b[0m     \n",
      "Convolution Module wrapping ``lax.conv_general_dilated``.\n",
      "\n",
      "Example usage::\n",
      "\n",
      "  >>> from flax import nnx\n",
      "  >>> import jax.numpy as jnp\n",
      "\n",
      "  >>> rngs = nnx.Rngs(0)\n",
      "  >>> x = jnp.ones((1, 8, 3))\n",
      "\n",
      "  >>> # valid padding\n",
      "  >>> layer = nnx.Conv(in_features=3, out_features=4, kernel_size=(3,),\n",
      "  ...                  padding='VALID', rngs=rngs)\n",
      "  >>> layer.kernel.value.shape\n",
      "  (3, 3, 4)\n",
      "  >>> layer.bias.value.shape\n",
      "  (4,)\n",
      "  >>> out = layer(x)\n",
      "  >>> out.shape\n",
      "  (1, 6, 4)\n",
      "\n",
      "  >>> # circular padding with stride 2\n",
      "  >>> layer = nnx.Conv(in_features=3, out_features=4, kernel_size=(3, 3),\n",
      "  ...                  strides=2, padding='CIRCULAR', rngs=rngs)\n",
      "  >>> layer.kernel.value.shape\n",
      "  (3, 3, 3, 4)\n",
      "  >>> layer.bias.value.shape\n",
      "  (4,)\n",
      "  >>> out = layer(x)\n",
      "  >>> out.shape\n",
      "  (1, 4, 4)\n",
      "\n",
      "  >>> # apply lower triangle mask\n",
      "  >>> mask = jnp.tril(jnp.ones((3, 3, 4)))\n",
      "  >>> layer = nnx.Conv(in_features=3, out_features=4, kernel_size=(3,),\n",
      "  ...                  mask=mask, padding='VALID', rngs=rngs)\n",
      "  >>> out = layer(x)\n",
      "\n",
      "Attributes:\n",
      "  in_features: int or tuple with number of input features.\n",
      "  out_features: int or tuple with number of output features.\n",
      "  kernel_size: shape of the convolutional kernel. For 1D convolution,\n",
      "    the kernel size can be passed as an integer, which will be interpreted\n",
      "    as a tuple of the single integer. For all other cases, it must be a\n",
      "    sequence of integers.\n",
      "  strides: an integer or a sequence of ``n`` integers, representing the\n",
      "    inter-window strides (default: 1).\n",
      "  padding: either the string ``'SAME'``, the string ``'VALID'``, the string\n",
      "    ``'CIRCULAR'`` (periodic boundary conditions), or a sequence of ``n``\n",
      "    ``(low, high)`` integer pairs that give the padding to apply before and after each\n",
      "    spatial dimension. A single int is interpeted as applying the same padding\n",
      "    in all dims and passign a single int in a sequence causes the same padding\n",
      "    to be used on both sides. ``'CAUSAL'`` padding for a 1D convolution will\n",
      "    left-pad the convolution axis, resulting in same-sized output.\n",
      "  input_dilation: an integer or a sequence of ``n`` integers, giving the\n",
      "    dilation factor to apply in each spatial dimension of ``inputs``\n",
      "    (default: 1). Convolution with input dilation ``d`` is equivalent to\n",
      "    transposed convolution with stride ``d``.\n",
      "  kernel_dilation: an integer or a sequence of ``n`` integers, giving the\n",
      "    dilation factor to apply in each spatial dimension of the convolution\n",
      "    kernel (default: 1). Convolution with kernel dilation\n",
      "    is also known as 'atrous convolution'.\n",
      "  feature_group_count: integer, default 1. If specified divides the input\n",
      "    features into groups.\n",
      "  use_bias: whether to add a bias to the output (default: True).\n",
      "  mask: Optional mask for the weights during masked convolution. The mask must\n",
      "        be the same shape as the convolution weight matrix.\n",
      "  dtype: the dtype of the computation (default: infer from input and params).\n",
      "  param_dtype: the dtype passed to parameter initializers (default: float32).\n",
      "  precision: numerical precision of the computation see ``jax.lax.Precision``\n",
      "    for details.\n",
      "  kernel_init: initializer for the convolutional kernel.\n",
      "  bias_init: initializer for the bias.\n",
      "  rngs: rng key.\n",
      "\u001b[0;31mFile:\u001b[0m           /store/DPMMS/ww347/ML_reproductions/jax_ecosystem/local_conda_env_jax/lib/python3.10/site-packages/flax/nnx/nn/linear.py\n",
      "\u001b[0;31mType:\u001b[0m           ModuleMeta\n",
      "\u001b[0;31mSubclasses:\u001b[0m     "
     ]
    }
   ],
   "source": [
    "nnx.Conv?"
   ]
  },
  {
   "cell_type": "code",
   "execution_count": 32,
   "metadata": {},
   "outputs": [
    {
     "data": {
      "text/plain": [
       "3136.0"
      ]
     },
     "execution_count": 32,
     "metadata": {},
     "output_type": "execute_result"
    }
   ],
   "source": [
    "# where does 3136 come from?  \n",
    "28 * 28 * 64 / 4**2"
   ]
  },
  {
   "cell_type": "markdown",
   "metadata": {},
   "source": [
    "Question: what is a good architecture? want to blow up; but then would have a heap of parameters early on.  \n",
    "Guess for now: just blow up then do some smoothing like operation with the convolutional layer"
   ]
  },
  {
   "cell_type": "markdown",
   "metadata": {},
   "source": [
    "Answer from tutorial is that can use a Conv2DTranspose in Keras.  \n",
    "They also use MVNTriL, and this is compatible with Keras sequential.  \n",
    "Some things to investigate:  \n",
    "- can a distribution be the output of nnx.Module? (i.e. we actually output the distribution straight off)  \n",
    "- is there a Conv2DTranspose in flax?\n",
    "- how does the tutorial code do backprop with respect to the decoder weights?"
   ]
  },
  {
   "cell_type": "markdown",
   "metadata": {},
   "source": [
    "Backprop: in the tutorial they optimise the neg_log_lik function.  \n",
    "This takes pair as input.  \n",
    "Calls vae.fit; so guess have to have inputs and outputs automatically used.  \n",
    "But t"
   ]
  }
 ],
 "metadata": {
  "kernelspec": {
   "display_name": "local_conda_env_jax",
   "language": "python",
   "name": "python3"
  },
  "language_info": {
   "codemirror_mode": {
    "name": "ipython",
    "version": 3
   },
   "file_extension": ".py",
   "mimetype": "text/x-python",
   "name": "python",
   "nbconvert_exporter": "python",
   "pygments_lexer": "ipython3",
   "version": "3.10.13"
  }
 },
 "nbformat": 4,
 "nbformat_minor": 2
}
